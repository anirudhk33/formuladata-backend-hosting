{
 "cells": [
  {
   "cell_type": "code",
   "execution_count": 1,
   "metadata": {},
   "outputs": [],
   "source": [
    "import pandas as pd\n",
    "import gdown\n",
    "import requests"
   ]
  },
  {
   "cell_type": "code",
   "execution_count": 9,
   "metadata": {},
   "outputs": [],
   "source": [
    "df = pd.read_csv('/Users/anirudhkrishna/GitHub/FormulaData/csv-data/cleaned_race_data.csv')"
   ]
  },
  {
   "cell_type": "code",
   "execution_count": 3,
   "metadata": {},
   "outputs": [
    {
     "name": "stdout",
     "output_type": "stream",
     "text": [
      "['net_positions_gained', 'fp1_position', 'fp2_position', 'fp3_position', 'fastest_lap_position', 'fastest_lap_number', 'latitude', 'longitude']\n"
     ]
    }
   ],
   "source": [
    "string_columns = df.select_dtypes(include='object').columns.tolist()\n",
    "int_columns = df.select_dtypes(include='int64').columns.tolist()\n",
    "float_columns = df.select_dtypes(include='float64').columns.tolist()\n",
    "\n",
    "print(float_columns)"
   ]
  },
  {
   "cell_type": "code",
   "execution_count": 4,
   "metadata": {},
   "outputs": [],
   "source": [
    "drivers_and_constructors = df[['driver_name', 'constructor_name']].drop_duplicates(subset=['driver_name', 'constructor_name'])"
   ]
  },
  {
   "cell_type": "code",
   "execution_count": 5,
   "metadata": {},
   "outputs": [],
   "source": [
    "circuit_details = df[['location', 'latitude', 'longitude', 'circuit_length', 'circuit_full_name']].drop_duplicates(subset=['circuit_full_name'])"
   ]
  },
  {
   "cell_type": "code",
   "execution_count": 6,
   "metadata": {},
   "outputs": [
    {
     "name": "stdout",
     "output_type": "stream",
     "text": [
      "               location   latitude   longitude           circuit_length  \\\n",
      "0         Great Britain  55.378051   -3.435973      4.649 km (2.889 mi)   \n",
      "23               Monaco  43.750298    7.412841   3.180 km (1.976 miles)   \n",
      "42     Indianapolis 500  37.090240  -95.712891     4.023 km (2.5 miles)   \n",
      "78          Switzerland  46.818188    8.227512    7.28 km (4.524 miles)   \n",
      "96              Belgium  50.503887    4.469936  14.120 km (8.825 miles)   \n",
      "...                 ...        ...         ...                      ...   \n",
      "24182         Abu Dhabi  23.424076   53.847818   5.281 km (3.281 miles)   \n",
      "24222      Saudi Arabia  23.885942   45.079162   6.174 km (3.836 miles)   \n",
      "24242         Australia -25.274398  133.775136   5.278 km (3.280 miles)   \n",
      "24322             Spain  40.463667   -3.749220   4.657 km (2.894 miles)   \n",
      "24342            Canada  56.130366 -106.346771   4.361 km (2.710 miles)   \n",
      "\n",
      "                                       circuit_full_name  \n",
      "0               Silverstone Circuit Silverstone, England  \n",
      "23                                     Circuit de Monaco  \n",
      "42                           Indianapolis Motor Speedway  \n",
      "78                         Bremgarten, Bern, Switzerland  \n",
      "96                       Spa-Francorchamps, Spa, Belgium  \n",
      "...                                                  ...  \n",
      "24182  Yas Marina Circuit Abu Dhabi, United Arab Emir...  \n",
      "24222       Jeddah Corniche Circuit Jeddah, Saudi Arabia  \n",
      "24242  Albert Park Circuit Melbourne, Victoria, Austr...  \n",
      "24322    Circuit de Barcelona-Catalunya, Montmeló, Spain  \n",
      "24342  Circuit Gilles Villeneuve, Montréal, Quebec, C...  \n",
      "\n",
      "[295 rows x 5 columns]\n"
     ]
    }
   ],
   "source": [
    "print(circuit_details)"
   ]
  },
  {
   "cell_type": "code",
   "execution_count": 13,
   "metadata": {},
   "outputs": [
    {
     "name": "stdout",
     "output_type": "stream",
     "text": [
      "[{'car_number': 14, 'circuit_full_name': 'Autodromo Internazionale Enzo e Dino Ferrari Imola, Emilia-Romagna, Italy', 'circuit_length': '4.909 km (3.050 miles)', 'constructor_name': 'Alpine Renault', 'date': '24 April, 2022', 'driver_name': 'Fernando Alonso', 'fastest_lap_number': 5.0, 'fastest_lap_position': 19.0, 'fastest_lap_time': '1:39.685', 'fp1_position': 7.0, 'fp2_position': 5.0, 'fp3_position': 7.0, 'grid_position': '9', 'has_fastest_lap': 0, 'latitude': 41.87194, 'location': 'Emilia Romagna', 'longitude': 12.56738, 'net_positions_gained': -11.0, 'points': 0, 'qualifying_time': nan, 'race_finishing_position': 'NC', 'race_laps_completed': 6, 'race_time': 'DNF', 'round': 4, 'season': 2022, 'weather': 'wet', 'wikipedia_link': 'https://en.wikipedia.org/wiki/2022_Emilia_Romagna_Grand_Prix'}, {'car_number': 14, 'circuit_full_name': 'Circuit de Monaco La Condamine and Monte Carlo, Monaco', 'circuit_length': '3.337 km (2.074 miles)', 'constructor_name': 'Alpine Renault', 'date': '29 May, 2022', 'driver_name': 'Fernando Alonso', 'fastest_lap_number': 50.0, 'fastest_lap_position': 3.0, 'fastest_lap_time': '1:15.882', 'fp1_position': 13.0, 'fp2_position': 8.0, 'fp3_position': 10.0, 'grid_position': '7', 'has_fastest_lap': 0, 'latitude': 43.750298, 'location': 'Monaco', 'longitude': 7.412841, 'net_positions_gained': 0.0, 'points': 6, 'qualifying_time': '1:12.247', 'race_finishing_position': '7', 'race_laps_completed': 64, 'race_time': '+46.358s', 'round': 7, 'season': 2022, 'weather': 'wet', 'wikipedia_link': 'https://en.wikipedia.org/wiki/2022_Monaco_Grand_Prix'}, {'car_number': 14, 'circuit_full_name': 'Hungaroring Mogyoród, Hungary', 'circuit_length': '4.381 km (2.722 miles)', 'constructor_name': 'Alpine Renault', 'date': '31 July, 2022', 'driver_name': 'Fernando Alonso', 'fastest_lap_number': 47.0, 'fastest_lap_position': 18.0, 'fastest_lap_time': '1:23.979', 'fp1_position': 10.0, 'fp2_position': 6.0, 'fp3_position': 6.0, 'grid_position': '6', 'has_fastest_lap': 0, 'latitude': 47.162494, 'location': 'Hungary', 'longitude': 19.503304, 'net_positions_gained': -2.0, 'points': 4, 'qualifying_time': '1:18.078', 'race_finishing_position': '8', 'race_laps_completed': 69, 'race_time': '+1 lap', 'round': 13, 'season': 2022, 'weather': 'wet', 'wikipedia_link': 'https://en.wikipedia.org/wiki/2022_Hungarian_Grand_Prix'}, {'car_number': 14, 'circuit_full_name': 'Marina Bay Street Circuit Marina Bay, Singapore', 'circuit_length': '5.063 km (3.146 miles)', 'constructor_name': 'Alpine Renault', 'date': '2 October, 2022', 'driver_name': 'Fernando Alonso', 'fastest_lap_number': 19.0, 'fastest_lap_position': 16.0, 'fastest_lap_time': '2:00.463', 'fp1_position': 10.0, 'fp2_position': 8.0, 'fp3_position': 4.0, 'grid_position': '5', 'has_fastest_lap': 0, 'latitude': 1.352083, 'location': 'Singapore', 'longitude': 103.819836, 'net_positions_gained': -15.0, 'points': 0, 'qualifying_time': '1:49.966', 'race_finishing_position': 'NC', 'race_laps_completed': 20, 'race_time': 'DNF', 'round': 17, 'season': 2022, 'weather': 'wet', 'wikipedia_link': 'https://en.wikipedia.org/wiki/2022_Singapore_Grand_Prix'}, {'car_number': 14, 'circuit_full_name': 'Suzuka International Racing Course Suzuka, Mie Prefecture, Japan', 'circuit_length': '5.807 km (3.608 miles)', 'constructor_name': 'Alpine Renault', 'date': '9 October, 2022', 'driver_name': 'Fernando Alonso', 'fastest_lap_number': 25.0, 'fastest_lap_position': 2.0, 'fastest_lap_time': '1:44.412', 'fp1_position': 1.0, 'fp2_position': 7.0, 'fp3_position': 4.0, 'grid_position': '7', 'has_fastest_lap': 0, 'latitude': 36.204824, 'location': 'Japan', 'longitude': 138.252924, 'net_positions_gained': 0.0, 'points': 6, 'qualifying_time': '1:30.322', 'race_finishing_position': '7', 'race_laps_completed': 28, 'race_time': '+46.369s', 'round': 18, 'season': 2022, 'weather': 'wet', 'wikipedia_link': 'https://en.wikipedia.org/wiki/2022_Japanese_Grand_Prix'}]\n"
     ]
    }
   ],
   "source": [
    "\n",
    "\n",
    "# Specify the API URL\n",
    "url = 'https://formuladataapi.pythonanywhere.com/api/f1'\n",
    "\n",
    "# Define the query parameters\n",
    "params = {\n",
    "    'season': 2022,\n",
    "    'weather': 'wet',\n",
    "    'driver_name':'Fernando Alonso'\n",
    "}\n",
    "\n",
    "# Send the GET request\n",
    "response = requests.get(url, params=params)\n",
    "\n",
    "# Check if the request was successful\n",
    "if response.status_code == 200:\n",
    "    # Print the response content (JSON data)\n",
    "    data = response.json()\n",
    "    print((data))\n",
    "else:\n",
    "    # Print the error message\n",
    "    print(f'Request failed with status code {response.status_code}')\n"
   ]
  },
  {
   "cell_type": "code",
   "execution_count": 8,
   "metadata": {},
   "outputs": [
    {
     "name": "stderr",
     "output_type": "stream",
     "text": [
      "Downloading...\n",
      "From: https://drive.google.com/uc?id=1dVKzWsdiImuWDDQ9CnRFSHK0Lcr_xK6P\n",
      "To: /Users/anirudhkrishna/GitHub/FormulaData/api/data.csv\n",
      "100%|██████████| 6.34M/6.34M [00:00<00:00, 10.6MB/s]\n"
     ]
    },
    {
     "name": "stdout",
     "output_type": "stream",
     "text": [
      "       season  round       location weather          date  \\\n",
      "0        1950      1  Great Britain     dry  13 May, 1950   \n",
      "1        1950      1  Great Britain     dry  13 May, 1950   \n",
      "2        1950      1  Great Britain     dry  13 May, 1950   \n",
      "3        1950      1  Great Britain     dry  13 May, 1950   \n",
      "4        1950      1  Great Britain     dry  13 May, 1950   \n",
      "...       ...    ...            ...     ...           ...   \n",
      "24397    2023     10  Great Britain  cloudy  9 July, 2023   \n",
      "24398    2023     10  Great Britain  cloudy  9 July, 2023   \n",
      "24399    2023     10  Great Britain  cloudy  9 July, 2023   \n",
      "24400    2023     10  Great Britain  cloudy  9 July, 2023   \n",
      "24401    2023     10  Great Britain  cloudy  9 July, 2023   \n",
      "\n",
      "      race_finishing_position            driver_name       constructor_name  \\\n",
      "0                           1            Nino Farina             Alfa Romeo   \n",
      "1                           2          Luigi Fagioli             Alfa Romeo   \n",
      "2                           3            Reg Parnell             Alfa Romeo   \n",
      "3                           4  Yves Giraud-Cabantous            Talbot-Lago   \n",
      "4                           5           Louis Rosier            Talbot-Lago   \n",
      "...                       ...                    ...                    ...   \n",
      "24397                      16           Yuki Tsunoda  AlphaTauri Honda RBPT   \n",
      "24398                      17          Nyck De Vries  AlphaTauri Honda RBPT   \n",
      "24399                      18           Pierre Gasly         Alpine Renault   \n",
      "24400                      NC        Kevin Magnussen           Haas Ferrari   \n",
      "24401                      NC           Esteban Ocon         Alpine Renault   \n",
      "\n",
      "       car_number  net_positions_gained  ...  fp2_position  fp3_position  \\\n",
      "0               2                   NaN  ...           NaN           NaN   \n",
      "1               3                   NaN  ...           NaN           NaN   \n",
      "2               4                   NaN  ...           NaN           NaN   \n",
      "3              14                   NaN  ...           NaN           NaN   \n",
      "4              15                   NaN  ...           NaN           NaN   \n",
      "...           ...                   ...  ...           ...           ...   \n",
      "24397          22                   0.0  ...          18.0          10.0   \n",
      "24398          21                   1.0  ...          19.0          11.0   \n",
      "24399          10                  -8.0  ...           8.0           4.0   \n",
      "24400          20                  -1.0  ...          17.0          15.0   \n",
      "24401          31                  -7.0  ...          13.0          16.0   \n",
      "\n",
      "      fastest_lap_position  fastest_lap_number fastest_lap_time  \\\n",
      "0                      1.0                 2.0         1:50.600   \n",
      "1                      NaN                 NaN              NaN   \n",
      "2                      NaN                 NaN              NaN   \n",
      "3                      NaN                 NaN              NaN   \n",
      "4                      NaN                 NaN              NaN   \n",
      "...                    ...                 ...              ...   \n",
      "24397                 17.0                48.0         1:32.084   \n",
      "24398                 18.0                48.0         1:32.353   \n",
      "24399                 12.0                42.0         1:31.539   \n",
      "24400                 19.0                29.0         1:33.356   \n",
      "24401                 20.0                 4.0         1:33.941   \n",
      "\n",
      "                                     circuit_full_name  \\\n",
      "0             Silverstone Circuit Silverstone, England   \n",
      "1             Silverstone Circuit Silverstone, England   \n",
      "2             Silverstone Circuit Silverstone, England   \n",
      "3             Silverstone Circuit Silverstone, England   \n",
      "4             Silverstone Circuit Silverstone, England   \n",
      "...                                                ...   \n",
      "24397  Silverstone Circuit Silverstone, United Kingdom   \n",
      "24398  Silverstone Circuit Silverstone, United Kingdom   \n",
      "24399  Silverstone Circuit Silverstone, United Kingdom   \n",
      "24400  Silverstone Circuit Silverstone, United Kingdom   \n",
      "24401  Silverstone Circuit Silverstone, United Kingdom   \n",
      "\n",
      "               circuit_length   latitude  longitude  \\\n",
      "0         4.649 km (2.889 mi)  55.378051  -3.435973   \n",
      "1         4.649 km (2.889 mi)  55.378051  -3.435973   \n",
      "2         4.649 km (2.889 mi)  55.378051  -3.435973   \n",
      "3         4.649 km (2.889 mi)  55.378051  -3.435973   \n",
      "4         4.649 km (2.889 mi)  55.378051  -3.435973   \n",
      "...                       ...        ...        ...   \n",
      "24397  5.891 km (3.660 miles)  55.378051  -3.435973   \n",
      "24398  5.891 km (3.660 miles)  55.378051  -3.435973   \n",
      "24399  5.891 km (3.660 miles)  55.378051  -3.435973   \n",
      "24400  5.891 km (3.660 miles)  55.378051  -3.435973   \n",
      "24401  5.891 km (3.660 miles)  55.378051  -3.435973   \n",
      "\n",
      "                                          wikipedia_link  \n",
      "0      https://en.wikipedia.org/wiki/1950_British_Gra...  \n",
      "1      https://en.wikipedia.org/wiki/1950_British_Gra...  \n",
      "2      https://en.wikipedia.org/wiki/1950_British_Gra...  \n",
      "3      https://en.wikipedia.org/wiki/1950_British_Gra...  \n",
      "4      https://en.wikipedia.org/wiki/1950_British_Gra...  \n",
      "...                                                  ...  \n",
      "24397  https://en.wikipedia.org/wiki/2023_British_Gra...  \n",
      "24398  https://en.wikipedia.org/wiki/2023_British_Gra...  \n",
      "24399  https://en.wikipedia.org/wiki/2023_British_Gra...  \n",
      "24400  https://en.wikipedia.org/wiki/2023_British_Gra...  \n",
      "24401  https://en.wikipedia.org/wiki/2023_British_Gra...  \n",
      "\n",
      "[24402 rows x 27 columns]\n"
     ]
    }
   ],
   "source": [
    "import gdown\n",
    "import pandas as pd\n",
    "\n",
    "# Google Drive file ID\n",
    "file_id = '1dVKzWsdiImuWDDQ9CnRFSHK0Lcr_xK6P'\n",
    "\n",
    "# Download the CSV file from Google Drive\n",
    "url = f'https://drive.google.com/uc?id={file_id}'\n",
    "output = 'data.csv'\n",
    "gdown.download(url, output, quiet=False)\n",
    "\n",
    "# Read the CSV file into a DataFrame\n",
    "df = pd.read_csv(output)\n",
    "\n",
    "# Print the DataFrame\n",
    "print(df)\n"
   ]
  },
  {
   "cell_type": "code",
   "execution_count": 9,
   "metadata": {},
   "outputs": [],
   "source": [
    "key_data = df[['season', 'round', 'location', 'weather', 'driver_name', 'constructor_name', 'race_finishing_position', 'grid_position', 'points']]\n"
   ]
  },
  {
   "cell_type": "code",
   "execution_count": 10,
   "metadata": {},
   "outputs": [],
   "source": [
    "def get_fp_details(driver, season, round):\n",
    "    url = 'https://formuladataapi.pythonanywhere.com/api/f1'\n",
    "    filters = {}\n",
    "    filters['driver_name'] = driver\n",
    "    filters['round'] = round\n",
    "    filters['season'] = season\n",
    "    response = requests.get(url, params=filters)\n",
    "    data = response.json()\n",
    "    print(data)\n",
    "    try:\n",
    "      fp1 = int(data[0]['fp1_position'])\n",
    "      fp2 = int(data[0]['fp2_position'])\n",
    "      fp3 = int(data[0]['fp3_position'])\n",
    "    except:\n",
    "      return None\n",
    "    return [fp1, fp2, fp3]"
   ]
  },
  {
   "cell_type": "code",
   "execution_count": 11,
   "metadata": {},
   "outputs": [
    {
     "name": "stdout",
     "output_type": "stream",
     "text": [
      "[{'car_number': 1, 'circuit_full_name': 'Silverstone Circuit Silverstone, United Kingdom', 'circuit_length': '5.891 km (3.660 miles)', 'constructor_name': 'Red Bull Racing Honda RBPT', 'date': '9 July, 2023', 'driver_name': 'Max Verstappen', 'fastest_lap_number': 42.0, 'fastest_lap_position': 1.0, 'fastest_lap_time': '1:30.275', 'fp1_position': 1.0, 'fp2_position': 1.0, 'fp3_position': 8.0, 'grid_position': '1', 'has_fastest_lap': 1, 'latitude': 55.378051, 'location': 'Great Britain', 'longitude': -3.435973, 'net_positions_gained': 0.0, 'points': 26, 'qualifying_time': '1:26.720', 'race_finishing_position': '1', 'race_laps_completed': 52, 'race_time': '1:25:16.938', 'round': 10, 'season': 2023, 'weather': 'cloudy', 'wikipedia_link': 'https://en.wikipedia.org/wiki/2023_British_Grand_Prix'}]\n"
     ]
    },
    {
     "data": {
      "text/plain": [
       "[1, 1, 8]"
      ]
     },
     "execution_count": 11,
     "metadata": {},
     "output_type": "execute_result"
    }
   ],
   "source": [
    "get_fp_details('Max Verstappen', 2023, 10)"
   ]
  },
  {
   "cell_type": "code",
   "execution_count": 6,
   "metadata": {},
   "outputs": [],
   "source": [
    "df = pd.read_html(\"https://www.formula1.com/en/results.html/2023/races/1211/spain/practice-1.html\")[0]"
   ]
  },
  {
   "cell_type": "code",
   "execution_count": 7,
   "metadata": {},
   "outputs": [
    {
     "name": "stdout",
     "output_type": "stream",
     "text": [
      "    Unnamed: 0  Pos  No                 Driver                           Car  \\\n",
      "0          NaN    1   1   Max  Verstappen  VER    Red Bull Racing Honda RBPT   \n",
      "1          NaN    2  11     Sergio  Perez  PER    Red Bull Racing Honda RBPT   \n",
      "2          NaN    3  31     Esteban  Ocon  OCO                Alpine Renault   \n",
      "3          NaN    4  21    Nyck  De Vries  DEV         AlphaTauri Honda RBPT   \n",
      "4          NaN    5  10     Pierre  Gasly  GAS                Alpine Renault   \n",
      "5          NaN    6  14  Fernando  Alonso  ALO  Aston Martin Aramco Mercedes   \n",
      "6          NaN    7  20  Kevin  Magnussen  MAG                  Haas Ferrari   \n",
      "7          NaN    8  16  Charles  Leclerc  LEC                       Ferrari   \n",
      "8          NaN    9  55     Carlos  Sainz  SAI                       Ferrari   \n",
      "9          NaN   10  63   George  Russell  RUS                      Mercedes   \n",
      "10         NaN   11   4     Lando  Norris  NOR              McLaren Mercedes   \n",
      "11         NaN   12  44   Lewis  Hamilton  HAM                      Mercedes   \n",
      "12         NaN   13  24      Zhou  Guanyu  ZHO            Alfa Romeo Ferrari   \n",
      "13         NaN   14  22     Yuki  Tsunoda  TSU         AlphaTauri Honda RBPT   \n",
      "14         NaN   15  18     Lance  Stroll  STR  Aston Martin Aramco Mercedes   \n",
      "15         NaN   16  77  Valtteri  Bottas  BOT            Alfa Romeo Ferrari   \n",
      "16         NaN   17  81    Oscar  Piastri  PIA              McLaren Mercedes   \n",
      "17         NaN   18  27  Nico  Hulkenberg  HUL                  Haas Ferrari   \n",
      "18         NaN   19   2   Logan  Sargeant  SAR             Williams Mercedes   \n",
      "19         NaN   20  23  Alexander  Albon  ALB             Williams Mercedes   \n",
      "\n",
      "        Time      Gap  Laps  Unnamed: 8  \n",
      "0   1:14.606      NaN    32         NaN  \n",
      "1   1:15.374  +0.768s    32         NaN  \n",
      "2   1:15.418  +0.812s    28         NaN  \n",
      "3   1:15.504  +0.898s    27         NaN  \n",
      "4   1:15.545  +0.939s    27         NaN  \n",
      "5   1:15.547  +0.941s    24         NaN  \n",
      "6   1:15.689  +1.083s    22         NaN  \n",
      "7   1:15.694  +1.088s    28         NaN  \n",
      "8   1:15.726  +1.120s    27         NaN  \n",
      "9   1:15.753  +1.147s    32         NaN  \n",
      "10  1:15.783  +1.177s    25         NaN  \n",
      "11  1:15.845  +1.239s    29         NaN  \n",
      "12  1:15.906  +1.300s    24         NaN  \n",
      "13  1:15.915  +1.309s    27         NaN  \n",
      "14  1:15.939  +1.333s    25         NaN  \n",
      "15  1:15.978  +1.372s    24         NaN  \n",
      "16  1:16.353  +1.747s    26         NaN  \n",
      "17  1:16.461  +1.855s    28         NaN  \n",
      "18  1:16.506  +1.900s    30         NaN  \n",
      "19  1:16.630  +2.024s    28         NaN  \n"
     ]
    }
   ],
   "source": [
    "print(df)"
   ]
  },
  {
   "cell_type": "code",
   "execution_count": 8,
   "metadata": {},
   "outputs": [
    {
     "name": "stdout",
     "output_type": "stream",
     "text": [
      "    Unnamed: 0  Pos  No                 Driver                           Car  \\\n",
      "0          NaN    1   1   Max  Verstappen  VER    Red Bull Racing Honda RBPT   \n",
      "1          NaN    2  11     Sergio  Perez  PER    Red Bull Racing Honda RBPT   \n",
      "2          NaN    3  31     Esteban  Ocon  OCO                Alpine Renault   \n",
      "3          NaN    4  21    Nyck  De Vries  DEV         AlphaTauri Honda RBPT   \n",
      "4          NaN    5  10     Pierre  Gasly  GAS                Alpine Renault   \n",
      "5          NaN    6  14  Fernando  Alonso  ALO  Aston Martin Aramco Mercedes   \n",
      "6          NaN    7  20  Kevin  Magnussen  MAG                  Haas Ferrari   \n",
      "7          NaN    8  16  Charles  Leclerc  LEC                       Ferrari   \n",
      "8          NaN    9  55     Carlos  Sainz  SAI                       Ferrari   \n",
      "9          NaN   10  63   George  Russell  RUS                      Mercedes   \n",
      "10         NaN   11   4     Lando  Norris  NOR              McLaren Mercedes   \n",
      "11         NaN   12  44   Lewis  Hamilton  HAM                      Mercedes   \n",
      "12         NaN   13  24      Zhou  Guanyu  ZHO            Alfa Romeo Ferrari   \n",
      "13         NaN   14  22     Yuki  Tsunoda  TSU         AlphaTauri Honda RBPT   \n",
      "14         NaN   15  18     Lance  Stroll  STR  Aston Martin Aramco Mercedes   \n",
      "15         NaN   16  77  Valtteri  Bottas  BOT            Alfa Romeo Ferrari   \n",
      "16         NaN   17  81    Oscar  Piastri  PIA              McLaren Mercedes   \n",
      "17         NaN   18  27  Nico  Hulkenberg  HUL                  Haas Ferrari   \n",
      "18         NaN   19   2   Logan  Sargeant  SAR             Williams Mercedes   \n",
      "19         NaN   20  23  Alexander  Albon  ALB             Williams Mercedes   \n",
      "\n",
      "        Time      Gap  Laps  Unnamed: 8  \n",
      "0   1:14.606      NaN    32         NaN  \n",
      "1   1:15.374  +0.768s    32         NaN  \n",
      "2   1:15.418  +0.812s    28         NaN  \n",
      "3   1:15.504  +0.898s    27         NaN  \n",
      "4   1:15.545  +0.939s    27         NaN  \n",
      "5   1:15.547  +0.941s    24         NaN  \n",
      "6   1:15.689  +1.083s    22         NaN  \n",
      "7   1:15.694  +1.088s    28         NaN  \n",
      "8   1:15.726  +1.120s    27         NaN  \n",
      "9   1:15.753  +1.147s    32         NaN  \n",
      "10  1:15.783  +1.177s    25         NaN  \n",
      "11  1:15.845  +1.239s    29         NaN  \n",
      "12  1:15.906  +1.300s    24         NaN  \n",
      "13  1:15.915  +1.309s    27         NaN  \n",
      "14  1:15.939  +1.333s    25         NaN  \n",
      "15  1:15.978  +1.372s    24         NaN  \n",
      "16  1:16.353  +1.747s    26         NaN  \n",
      "17  1:16.461  +1.855s    28         NaN  \n",
      "18  1:16.506  +1.900s    30         NaN  \n",
      "19  1:16.630  +2.024s    28         NaN  \n"
     ]
    }
   ],
   "source": [
    "print(df)"
   ]
  },
  {
   "cell_type": "code",
   "execution_count": 21,
   "metadata": {},
   "outputs": [],
   "source": [
    "driver_names = [\n",
    "  \"Max Verstappen\",\n",
    "  \"Lando Norris\",\n",
    "  \"Lewis Hamilton\",\n",
    "  \"Oscar Piastri\",\n",
    "  \"George Russell\",\n",
    "  \"Sergio Perez\",\n",
    "  \"Fernando Alonso\",\n",
    "  \"Alexander Albon\",\n",
    "  \"Charles Leclerc\",\n",
    "  \"Carlos Sainz\",\n",
    "  \"Logan Sargeant\",\n",
    "  \"Valtteri Bottas\",\n",
    "  \"Nico Hulkenberg\",\n",
    "  \"Lance Stroll\",\n",
    "  \"Zhou Guanyu\",\n",
    "  \"Yuki Tsunoda\",\n",
    "  \"Nyck De Vries\",\n",
    "  \"Pierre Gasly\",\n",
    "  \"Kevin Magnussen\",\n",
    "  \"Esteban Ocon\",\n",
    "]\n"
   ]
  },
  {
   "cell_type": "code",
   "execution_count": 31,
   "metadata": {},
   "outputs": [
    {
     "name": "stdout",
     "output_type": "stream",
     "text": [
      "Max Verstappen 1.8\n",
      "Lando Norris 12.4\n",
      "Lewis Hamilton 7.1\n",
      "Oscar Piastri 13.6\n",
      "George Russell 9.8\n",
      "Sergio Perez 5.7\n",
      "Fernando Alonso 5.9\n",
      "Alexander Albon 12.8\n",
      "Charles Leclerc 4.8\n",
      "Carlos Sainz 5.4\n",
      "Logan Sargeant 16.5\n",
      "Valtteri Bottas 12.9\n",
      "Nico Hulkenberg 13.2\n",
      "Lance Stroll 8.3\n",
      "Zhou Guanyu 13.4\n",
      "Yuki Tsunoda 13.8\n",
      "Nyck De Vries 16.0\n",
      "Pierre Gasly 10.2\n",
      "Kevin Magnussen 13.5\n",
      "Esteban Ocon 12.9\n"
     ]
    }
   ],
   "source": [
    "for driver in driver_names:\n",
    "  filtered_df = df[(df['driver_name'] == driver) & (df['season'] == 2023)]\n",
    "  average_finishing_position = filtered_df['fp3_position'].fillna(20).astype(int).mean()\n",
    "  print(driver, average_finishing_position)"
   ]
  },
  {
   "cell_type": "code",
   "execution_count": null,
   "metadata": {},
   "outputs": [],
   "source": []
  }
 ],
 "metadata": {
  "kernelspec": {
   "display_name": "formulakernel",
   "language": "python",
   "name": "formulakernel"
  },
  "language_info": {
   "codemirror_mode": {
    "name": "ipython",
    "version": 3
   },
   "file_extension": ".py",
   "mimetype": "text/x-python",
   "name": "python",
   "nbconvert_exporter": "python",
   "pygments_lexer": "ipython3",
   "version": "3.10.5"
  },
  "orig_nbformat": 4
 },
 "nbformat": 4,
 "nbformat_minor": 2
}
